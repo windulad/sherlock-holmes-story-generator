{
 "cells": [
  {
   "cell_type": "markdown",
   "metadata": {
    "papermill": {
     "duration": 0.016466,
     "end_time": "2020-11-25T06:32:34.619602",
     "exception": false,
     "start_time": "2020-11-25T06:32:34.603136",
     "status": "completed"
    },
    "tags": []
   },
   "source": [
    "<img src=\"https://drive.google.com/uc?export=view&amp;id=1zSJwAUxWv5bxyYLmYPNi-s6M_Wq5iWXh\">"
   ]
  },
  {
   "cell_type": "markdown",
   "metadata": {
    "papermill": {
     "duration": 0.013027,
     "end_time": "2020-11-25T06:32:34.646276",
     "exception": false,
     "start_time": "2020-11-25T06:32:34.633249",
     "status": "completed"
    },
    "tags": []
   },
   "source": [
    "## Importing tools"
   ]
  },
  {
   "cell_type": "code",
   "execution_count": 1,
   "metadata": {
    "_cell_guid": "b1076dfc-b9ad-4769-8c92-a6c4dae69d19",
    "_uuid": "8f2839f25d086af736a60e9eeb907d3b93b6e0e5",
    "papermill": {
     "duration": 1.863124,
     "end_time": "2020-11-25T06:32:36.522810",
     "exception": false,
     "start_time": "2020-11-25T06:32:34.659686",
     "status": "completed"
    },
    "tags": []
   },
   "outputs": [],
   "source": [
    "import numpy as np\n",
    "import pandas as pd\n",
    "import os\n",
    "import re\n",
    "import string\n",
    "from nltk.tokenize import word_tokenize\n",
    "from nltk.corpus import stopwords\n",
    "import random"
   ]
  },
  {
   "cell_type": "markdown",
   "metadata": {
    "papermill": {
     "duration": 0.013469,
     "end_time": "2020-11-25T06:32:36.550629",
     "exception": false,
     "start_time": "2020-11-25T06:32:36.537160",
     "status": "completed"
    },
    "tags": []
   },
   "source": [
    "## Reading every Sherlock Holmes adventure!"
   ]
  },
  {
   "cell_type": "code",
   "execution_count": 2,
   "metadata": {
    "papermill": {
     "duration": 0.47249,
     "end_time": "2020-11-25T06:32:37.036707",
     "exception": false,
     "start_time": "2020-11-25T06:32:36.564217",
     "status": "completed"
    },
    "tags": []
   },
   "outputs": [
    {
     "name": "stdout",
     "output_type": "stream",
     "text": [
      "number of lines =  215021\n"
     ]
    }
   ],
   "source": [
    "story_path = \"C:/Users/Windula Dissanayake/Documents/Sherlock Holmes app/sherlock-holmes-story-generator/sherlock-homes-nlp-app/sherlock/\"\n",
    "\n",
    "def read_all_stories(story_path):\n",
    "    txt = []\n",
    "    for _, _, files in os.walk(story_path):\n",
    "        for file in files:\n",
    "            with open(story_path+file) as f:\n",
    "                for line in f:\n",
    "                    line = line.strip()\n",
    "                    if line=='----------': break\n",
    "                    if line!='':txt.append(line)\n",
    "    return txt\n",
    "        \n",
    "stories = read_all_stories(story_path)\n",
    "print(\"number of lines = \", len(stories))"
   ]
  },
  {
   "cell_type": "markdown",
   "metadata": {
    "papermill": {
     "duration": 0.013801,
     "end_time": "2020-11-25T06:32:37.065221",
     "exception": false,
     "start_time": "2020-11-25T06:32:37.051420",
     "status": "completed"
    },
    "tags": []
   },
   "source": [
    "## Cleaning the text"
   ]
  },
  {
   "cell_type": "code",
   "execution_count": 3,
   "metadata": {
    "papermill": {
     "duration": 43.209558,
     "end_time": "2020-11-25T06:33:20.289125",
     "exception": false,
     "start_time": "2020-11-25T06:32:37.079567",
     "status": "completed"
    },
    "tags": []
   },
   "outputs": [
    {
     "name": "stdout",
     "output_type": "stream",
     "text": [
      "number of words =  2332110\n"
     ]
    }
   ],
   "source": [
    "def clean_txt(txt):\n",
    "    cleaned_txt = []\n",
    "    for line in txt:\n",
    "        line = line.lower()\n",
    "        line = re.sub(r\"[,.\\\"\\'!@#$%^&*(){}?/;`~:<>+=-\\\\]\", \"\", line)\n",
    "        tokens = word_tokenize(line)\n",
    "        words = [word for word in tokens if word.isalpha()]\n",
    "        cleaned_txt+=words\n",
    "    return cleaned_txt\n",
    "\n",
    "cleaned_stories = clean_txt(stories)\n",
    "print(\"number of words = \", len(cleaned_stories))"
   ]
  },
  {
   "cell_type": "markdown",
   "metadata": {
    "papermill": {
     "duration": 0.014325,
     "end_time": "2020-11-25T06:33:20.318770",
     "exception": false,
     "start_time": "2020-11-25T06:33:20.304445",
     "status": "completed"
    },
    "tags": []
   },
   "source": [
    "## Creating the Markov Model"
   ]
  },
  {
   "cell_type": "code",
   "execution_count": 4,
   "metadata": {
    "papermill": {
     "duration": 0.031699,
     "end_time": "2020-11-25T06:33:20.364992",
     "exception": false,
     "start_time": "2020-11-25T06:33:20.333293",
     "status": "completed"
    },
    "tags": []
   },
   "outputs": [],
   "source": [
    "def make_markov_model(cleaned_stories, n_gram=2):\n",
    "    markov_model = {}\n",
    "    for i in range(len(cleaned_stories)-n_gram-1):\n",
    "        curr_state, next_state = \"\", \"\"\n",
    "        for j in range(n_gram):\n",
    "            curr_state += cleaned_stories[i+j] + \" \"\n",
    "            next_state += cleaned_stories[i+j+n_gram] + \" \"\n",
    "        curr_state = curr_state[:-1]\n",
    "        next_state = next_state[:-1]\n",
    "        if curr_state not in markov_model:\n",
    "            markov_model[curr_state] = {}\n",
    "            markov_model[curr_state][next_state] = 1\n",
    "        else:\n",
    "            if next_state in markov_model[curr_state]:\n",
    "                markov_model[curr_state][next_state] += 1\n",
    "            else:\n",
    "                markov_model[curr_state][next_state] = 1\n",
    "    \n",
    "    # calculating transition probabilities\n",
    "    for curr_state, transition in markov_model.items():\n",
    "        total = sum(transition.values())\n",
    "        for state, count in transition.items():\n",
    "            markov_model[curr_state][state] = count/total\n",
    "        \n",
    "    return markov_model"
   ]
  },
  {
   "cell_type": "code",
   "execution_count": 5,
   "metadata": {
    "papermill": {
     "duration": 8.433005,
     "end_time": "2020-11-25T06:33:28.813164",
     "exception": false,
     "start_time": "2020-11-25T06:33:20.380159",
     "status": "completed"
    },
    "tags": []
   },
   "outputs": [],
   "source": [
    "markov_model = make_markov_model(cleaned_stories)"
   ]
  },
  {
   "cell_type": "code",
   "execution_count": 7,
   "metadata": {
    "papermill": {
     "duration": 0.025469,
     "end_time": "2020-11-25T06:33:28.853878",
     "exception": false,
     "start_time": "2020-11-25T06:33:28.828409",
     "status": "completed"
    },
    "tags": []
   },
   "outputs": [
    {
     "name": "stdout",
     "output_type": "stream",
     "text": [
      "number of states =  208670\n"
     ]
    }
   ],
   "source": [
    "print(\"number of states = \", len(markov_model.keys()))"
   ]
  },
  {
   "cell_type": "code",
   "execution_count": 8,
   "metadata": {
    "papermill": {
     "duration": 0.025345,
     "end_time": "2020-11-25T06:33:28.895122",
     "exception": false,
     "start_time": "2020-11-25T06:33:28.869777",
     "status": "completed"
    },
    "tags": []
   },
   "outputs": [
    {
     "name": "stdout",
     "output_type": "stream",
     "text": [
      "All possible transitions from 'the game' state: \n",
      "\n",
      "{'your letter': 0.02702702702702703, 'was up': 0.09009009009009009, 'is afoot': 0.036036036036036036, 'for the': 0.036036036036036036, 'was in': 0.02702702702702703, 'is hardly': 0.02702702702702703, 'would have': 0.036036036036036036, 'is up': 0.06306306306306306, 'is and': 0.036036036036036036, 'in their': 0.036036036036036036, 'was whist': 0.036036036036036036, 'in that': 0.036036036036036036, 'the lack': 0.036036036036036036, 'for all': 0.06306306306306306, 'may wander': 0.02702702702702703, 'now a': 0.02702702702702703, 'my own': 0.02702702702702703, 'at any': 0.02702702702702703, 'mr holmes': 0.02702702702702703, 'ay whats': 0.02702702702702703, 'my friend': 0.02702702702702703, 'fairly by': 0.02702702702702703, 'is not': 0.02702702702702703, 'was not': 0.02702702702702703, 'was afoot': 0.036036036036036036, 'worth it': 0.02702702702702703, 'you are': 0.02702702702702703, 'i am': 0.02702702702702703, 'now count': 0.02702702702702703}\n"
     ]
    }
   ],
   "source": [
    "print(\"All possible transitions from 'the game' state: \\n\")\n",
    "print(markov_model['the game'])"
   ]
  },
  {
   "cell_type": "markdown",
   "metadata": {
    "papermill": {
     "duration": 0.016112,
     "end_time": "2020-11-25T06:33:28.927707",
     "exception": false,
     "start_time": "2020-11-25T06:33:28.911595",
     "status": "completed"
    },
    "tags": []
   },
   "source": [
    "## Generating Sherlock Holmes stories!"
   ]
  },
  {
   "cell_type": "code",
   "execution_count": 9,
   "metadata": {
    "papermill": {
     "duration": 0.02932,
     "end_time": "2020-11-25T06:33:28.973833",
     "exception": false,
     "start_time": "2020-11-25T06:33:28.944513",
     "status": "completed"
    },
    "tags": []
   },
   "outputs": [],
   "source": [
    "def generate_story(markov_model, limit=100, start='my god'):\n",
    "    n = 0\n",
    "    curr_state = start\n",
    "    next_state = None\n",
    "    story = \"\"\n",
    "    story+=curr_state+\" \"\n",
    "    while n<limit:\n",
    "        next_state = random.choices(list(markov_model[curr_state].keys()),\n",
    "                                    list(markov_model[curr_state].values()))\n",
    "        \n",
    "        curr_state = next_state[0]\n",
    "        story+=curr_state+\" \"\n",
    "        n+=1\n",
    "    return story"
   ]
  },
  {
   "cell_type": "code",
   "execution_count": 11,
   "metadata": {
    "papermill": {
     "duration": 0.034888,
     "end_time": "2020-11-25T06:33:29.025999",
     "exception": false,
     "start_time": "2020-11-25T06:33:28.991111",
     "status": "completed"
    },
    "tags": []
   },
   "outputs": [
    {
     "name": "stdout",
     "output_type": "stream",
     "text": [
      "0.  dear holmes if i thought you would say is a man you will realize that among your extensive \n",
      "1.  dear holmes i ejaculated commonplace said holmes though how you get on your theories i remarked that of \n",
      "2.  dear holmes i ejaculated well really this is recent quite recent see how the details of this inconceivable \n",
      "3.  dear holmes i exclaimed it is difficult to place him you wear a short walk of a couple \n",
      "4.  dear holmes that i was in the loft at the little railway arms and fondled it most tenderly \n",
      "5.  dear holmes am i he gazed from sir henry to stay with you until your reason breaks down \n",
      "6.  dear holmes i fear lest i bias my judgment i really had the effect could be more hopelessly \n",
      "7.  dear holmes am i then you do me a good hundred miles off by foreman blaker its been \n",
      "8.  dear holmes what do they care for my own sake said he but my own affairs needed a \n",
      "9.  dear holmes you are their employer is as you say is true did barrymore profit at all by \n",
      "10.  dear holmes what do you make of them which he had himself in reply imploring me to come \n",
      "11.  dear holmes i have already said at the moment said holmes where does this path lead to to \n",
      "12.  dear holmes oh yes he will be for the purpose of an indiscretion if i were again in \n",
      "13.  dear holmes he has not been shadowed during the last witness inspector bradstreet b division gave evidence as \n",
      "14.  dear holmes am i answered then what are you loitering there for one night it was for this \n",
      "15.  dear holmes if i would break their hearts its pure lunacy but surely said i the only point \n",
      "16.  dear holmes he has at this watson he answered it is certainly a most desperate resistance in arresting \n",
      "17.  dear holmes said i been numerous petty thefts holmes snorted his contempt this great and sombre a black \n",
      "18.  dear holmes he has so often and so through wigmore street into oxford street and i observe that \n",
      "19.  dear holmes if i had come to live for stand at the furthest we will leave you this \n"
     ]
    }
   ],
   "source": [
    "for i in range(20):\n",
    "    print(str(i)+\". \", generate_story(markov_model, start=\"dear holmes\", limit=8))"
   ]
  },
  {
   "cell_type": "code",
   "execution_count": 10,
   "metadata": {
    "papermill": {
     "duration": 0.033785,
     "end_time": "2020-11-25T06:33:29.078212",
     "exception": false,
     "start_time": "2020-11-25T06:33:29.044427",
     "status": "completed"
    },
    "tags": []
   },
   "outputs": [
    {
     "name": "stdout",
     "output_type": "stream",
     "text": [
      "0.  my dear watson it might have taken this fragment from the murderer must have been a surprise to \n",
      "1.  my dear sir cried dr mortimer but dr mortimer was reading his legend yes i remember rightly you \n",
      "2.  my dear fellow you will go no further went the whole way the devil knows best what he \n",
      "3.  my dear watson with what eagerness i listened but they were regarded in the evening at improving and \n",
      "4.  my dear sir it was immediately after that father came back again captain morstan you will challenge him \n",
      "5.  my dear fellow no one can hardly expect your if i do know it is to help the \n",
      "6.  my dear watson which does not come within my horizon early to see your faces again the two \n",
      "7.  my dear watson said he as he handed the paper to you i was standing there with those \n",
      "8.  my dear watson he added as the train the agent they could lay their hands upon you when \n",
      "9.  my dear mr sherlock holmes cases between the cells of the convicts instead of bounding on and escaping \n",
      "10.  my dear mr mac and you have aided us i guess youll see her once before our united \n",
      "11.  my dear fellow for heavens sake mr holmes but i will make every effort should be able to \n",
      "12.  my dear watson i am going round now to see me with a strange thing if he knew \n",
      "13.  my dear watson your revolver has solved the problem as far as it has however one of these \n",
      "14.  my dear sir there is a singular thing however how do you think about it watson he yelled \n",
      "15.  my dear sir dont look so depressed we can do nothing for a week rise and fall of \n",
      "16.  my dear mycroft the chain is complete the cure as to you mr holmes i suppose that there \n",
      "17.  my dear fellow he cried wringing holmes unresponsive hand congratulate me i shall stand behind this and see \n",
      "18.  my dear watson if there is mortimers the tobacconist the little newspaper shop the coburg branch of the \n",
      "19.  my dear holmes if only you two know of this one small point remarked holmes stretching his long \n"
     ]
    }
   ],
   "source": [
    "for i in range(20):\n",
    "    print(str(i)+\". \", generate_story(markov_model, start=\"my dear\", limit=8))"
   ]
  },
  {
   "cell_type": "code",
   "execution_count": 11,
   "metadata": {
    "papermill": {
     "duration": 0.03434,
     "end_time": "2020-11-25T06:33:29.131674",
     "exception": false,
     "start_time": "2020-11-25T06:33:29.097334",
     "status": "completed"
    },
    "tags": []
   },
   "outputs": [
    {
     "name": "stdout",
     "output_type": "stream",
     "text": [
      "0.  i would be glad to learn the contents of these the latter club he had shot her father \n",
      "1.  i would be glad to be further from brook street are you sir i think that i need \n",
      "2.  i would suggest that i have noticed that he slipped an emerald snake ring on the stairs a \n",
      "3.  i would ask you what the lad says is absolutely all that it was so much to produce \n",
      "4.  i would venture to inquire too closely into details my friend watson was with me when all is \n",
      "5.  i would there was a paragraph amplifying this in one day it is no objection to my running \n",
      "6.  i would find that he has a struggle that the case is in such cases watson i put \n",
      "7.  i would move said the secretary hell come never fear mcmurdo answered but whatever the cause which had \n",
      "8.  i would willingly give five hundred morning thats quick work you know him and returned towards hatherley farm \n",
      "9.  i would not need to explain to him my dear watson to understand that under the roof of \n",
      "10.  i would offer you a glass of claret and some of stone irregular mounds which contained the passenger \n",
      "11.  i would ask you that he is indeed out of work there is but one thing cried the \n",
      "12.  i would only return etc the good steiler assured me in a jagged hole i am the dramatist \n",
      "13.  i would sooner have a savage hound the fog had lifted and conveyed somewhere what i had both \n",
      "14.  i would have told you that there never was a man this is fine but the romance was \n",
      "15.  i would not have touched a spring and the front of woodleys waistcoat he spun round with a \n",
      "16.  i would ask you what is the flaw holmes if your grace i am convinced that i heard \n",
      "17.  i would have brought him to himself has no recollection of what nature are they nay madam there \n",
      "18.  i would dream of trying said he then led the way into your collection by the hand i \n",
      "19.  i would never rest until it fell with a tremendous rate jones looked gravely at her fathers description \n"
     ]
    }
   ],
   "source": [
    "for i in range(20):\n",
    "    print(str(i)+\". \", generate_story(markov_model, start=\"i would\", limit=8))"
   ]
  },
  {
   "cell_type": "code",
   "execution_count": 12,
   "metadata": {
    "papermill": {
     "duration": 0.030943,
     "end_time": "2020-11-25T06:33:29.183636",
     "exception": false,
     "start_time": "2020-11-25T06:33:29.152693",
     "status": "completed"
    },
    "tags": []
   },
   "outputs": [
    {
     "name": "stdout",
     "output_type": "stream",
     "text": [
      "the case had been traveling with a woman from nervous exhaustion she opened her eyes again is he not and i will well then i take it that young dr ernest an unmarried man years of my life said she i thought of my late acquaintance are going to answer for the girls denial that anything you can put that in your day of the robbery in the morning or the loss of my natural enemies or shall we have led peaceful and useful lives and led repeated expeditions into the mountains which surrounded the house when holmes returned with the other with surprising dexterity he had long vanished in the night already the cab was useless we walked and he walked and he greeted us was so abnormally active that it was welcome to my horror a convulsion of terror which had marked the features are given you for my own rooms in montague street he had shaken it off and let lodgings to sailors fairbairn used to stay and to make the view more awful holmes held up her head against his bonds and mrs stapleton herself spoke good english sir and theres no use to me in the evening \n"
     ]
    }
   ],
   "source": [
    "print(generate_story(markov_model, start=\"the case\", limit=100))"
   ]
  },
  {
   "cell_type": "code",
   "execution_count": null,
   "metadata": {},
   "outputs": [],
   "source": []
  }
 ],
 "metadata": {
  "kernelspec": {
   "display_name": "Python 3 (ipykernel)",
   "language": "python",
   "name": "python3"
  },
  "language_info": {
   "codemirror_mode": {
    "name": "ipython",
    "version": 3
   },
   "file_extension": ".py",
   "mimetype": "text/x-python",
   "name": "python",
   "nbconvert_exporter": "python",
   "pygments_lexer": "ipython3",
   "version": "3.11.4"
  },
  "papermill": {
   "duration": 59.473932,
   "end_time": "2020-11-25T06:33:29.314157",
   "environment_variables": {},
   "exception": null,
   "input_path": "__notebook__.ipynb",
   "output_path": "__notebook__.ipynb",
   "parameters": {},
   "start_time": "2020-11-25T06:32:29.840225",
   "version": "2.1.0"
  }
 },
 "nbformat": 4,
 "nbformat_minor": 4
}
