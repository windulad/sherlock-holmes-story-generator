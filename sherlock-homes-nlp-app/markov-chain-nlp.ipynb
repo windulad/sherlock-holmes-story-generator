{
 "cells": [
  {
   "cell_type": "markdown",
   "metadata": {
    "papermill": {
     "duration": 0.016466,
     "end_time": "2020-11-25T06:32:34.619602",
     "exception": false,
     "start_time": "2020-11-25T06:32:34.603136",
     "status": "completed"
    },
    "tags": []
   },
   "source": [
    "<img src=\"https://drive.google.com/uc?export=view&amp;id=1zSJwAUxWv5bxyYLmYPNi-s6M_Wq5iWXh\">"
   ]
  },
  {
   "cell_type": "markdown",
   "metadata": {
    "papermill": {
     "duration": 0.013027,
     "end_time": "2020-11-25T06:32:34.646276",
     "exception": false,
     "start_time": "2020-11-25T06:32:34.633249",
     "status": "completed"
    },
    "tags": []
   },
   "source": [
    "## Importing tools"
   ]
  },
  {
   "cell_type": "code",
   "execution_count": 2,
   "metadata": {
    "_cell_guid": "b1076dfc-b9ad-4769-8c92-a6c4dae69d19",
    "_uuid": "8f2839f25d086af736a60e9eeb907d3b93b6e0e5",
    "papermill": {
     "duration": 1.863124,
     "end_time": "2020-11-25T06:32:36.522810",
     "exception": false,
     "start_time": "2020-11-25T06:32:34.659686",
     "status": "completed"
    },
    "tags": []
   },
   "outputs": [],
   "source": [
    "import numpy as np\n",
    "import pandas as pd\n",
    "import os\n",
    "import re\n",
    "import string\n",
    "from nltk.tokenize import word_tokenize\n",
    "from nltk.corpus import stopwords\n",
    "import random"
   ]
  },
  {
   "cell_type": "markdown",
   "metadata": {
    "papermill": {
     "duration": 0.013469,
     "end_time": "2020-11-25T06:32:36.550629",
     "exception": false,
     "start_time": "2020-11-25T06:32:36.537160",
     "status": "completed"
    },
    "tags": []
   },
   "source": [
    "## Reading every Sherlock Holmes adventure!"
   ]
  },
  {
   "cell_type": "code",
   "execution_count": 3,
   "metadata": {
    "papermill": {
     "duration": 0.47249,
     "end_time": "2020-11-25T06:32:37.036707",
     "exception": false,
     "start_time": "2020-11-25T06:32:36.564217",
     "status": "completed"
    },
    "tags": []
   },
   "outputs": [
    {
     "name": "stdout",
     "output_type": "stream",
     "text": [
      "number of lines =  430042\n"
     ]
    }
   ],
   "source": [
    "story_path = \"C:/Users/Windula Dissanayake/Documents/NLP Project/sherlock-homes-nlp-app/sherlock/\"\n",
    "\n",
    "def read_all_stories(story_path):\n",
    "    txt = []\n",
    "    for _, _, files in os.walk(story_path):\n",
    "        for file in files:\n",
    "            with open(story_path+file) as f:\n",
    "                for line in f:\n",
    "                    line = line.strip()\n",
    "                    if line=='----------': break\n",
    "                    if line!='':txt.append(line)\n",
    "    return txt\n",
    "        \n",
    "stories = read_all_stories(story_path)\n",
    "print(\"number of lines = \", len(stories))"
   ]
  },
  {
   "cell_type": "markdown",
   "metadata": {
    "papermill": {
     "duration": 0.013801,
     "end_time": "2020-11-25T06:32:37.065221",
     "exception": false,
     "start_time": "2020-11-25T06:32:37.051420",
     "status": "completed"
    },
    "tags": []
   },
   "source": [
    "## Cleaning the text"
   ]
  },
  {
   "cell_type": "code",
   "execution_count": 4,
   "metadata": {
    "papermill": {
     "duration": 43.209558,
     "end_time": "2020-11-25T06:33:20.289125",
     "exception": false,
     "start_time": "2020-11-25T06:32:37.079567",
     "status": "completed"
    },
    "tags": []
   },
   "outputs": [
    {
     "name": "stdout",
     "output_type": "stream",
     "text": [
      "number of words =  4664220\n"
     ]
    }
   ],
   "source": [
    "def clean_txt(txt):\n",
    "    cleaned_txt = []\n",
    "    for line in txt:\n",
    "        line = line.lower()\n",
    "        line = re.sub(r\"[,.\\\"\\'!@#$%^&*(){}?/;`~:<>+=-\\\\]\", \"\", line)\n",
    "        tokens = word_tokenize(line)\n",
    "        words = [word for word in tokens if word.isalpha()]\n",
    "        cleaned_txt+=words\n",
    "    return cleaned_txt\n",
    "\n",
    "cleaned_stories = clean_txt(stories)\n",
    "print(\"number of words = \", len(cleaned_stories))"
   ]
  },
  {
   "cell_type": "markdown",
   "metadata": {
    "papermill": {
     "duration": 0.014325,
     "end_time": "2020-11-25T06:33:20.318770",
     "exception": false,
     "start_time": "2020-11-25T06:33:20.304445",
     "status": "completed"
    },
    "tags": []
   },
   "source": [
    "## Creating the Markov Model"
   ]
  },
  {
   "cell_type": "code",
   "execution_count": 6,
   "metadata": {
    "papermill": {
     "duration": 0.031699,
     "end_time": "2020-11-25T06:33:20.364992",
     "exception": false,
     "start_time": "2020-11-25T06:33:20.333293",
     "status": "completed"
    },
    "tags": []
   },
   "outputs": [],
   "source": [
    "def make_markov_model(cleaned_stories, n_gram=2):\n",
    "    markov_model = {}\n",
    "    for i in range(len(cleaned_stories)-n_gram-1):\n",
    "        curr_state, next_state = \"\", \"\"\n",
    "        for j in range(n_gram):\n",
    "            curr_state += cleaned_stories[i+j] + \" \"\n",
    "            next_state += cleaned_stories[i+j+n_gram] + \" \"\n",
    "        curr_state = curr_state[:-1]\n",
    "        next_state = next_state[:-1]\n",
    "        if curr_state not in markov_model:\n",
    "            markov_model[curr_state] = {}\n",
    "            markov_model[curr_state][next_state] = 1\n",
    "        else:\n",
    "            if next_state in markov_model[curr_state]:\n",
    "                markov_model[curr_state][next_state] += 1\n",
    "            else:\n",
    "                markov_model[curr_state][next_state] = 1\n",
    "    \n",
    "    # calculating transition probabilities\n",
    "    for curr_state, transition in markov_model.items():\n",
    "        total = sum(transition.values())\n",
    "        for state, count in transition.items():\n",
    "            markov_model[curr_state][state] = count/total\n",
    "        \n",
    "    return markov_model"
   ]
  },
  {
   "cell_type": "code",
   "execution_count": 7,
   "metadata": {
    "papermill": {
     "duration": 8.433005,
     "end_time": "2020-11-25T06:33:28.813164",
     "exception": false,
     "start_time": "2020-11-25T06:33:20.380159",
     "status": "completed"
    },
    "tags": []
   },
   "outputs": [],
   "source": [
    "markov_model = make_markov_model(cleaned_stories)"
   ]
  },
  {
   "cell_type": "code",
   "execution_count": 8,
   "metadata": {
    "papermill": {
     "duration": 0.025469,
     "end_time": "2020-11-25T06:33:28.853878",
     "exception": false,
     "start_time": "2020-11-25T06:33:28.828409",
     "status": "completed"
    },
    "tags": []
   },
   "outputs": [
    {
     "name": "stdout",
     "output_type": "stream",
     "text": [
      "number of states =  208670\n"
     ]
    }
   ],
   "source": [
    "print(\"number of states = \", len(markov_model.keys()))"
   ]
  },
  {
   "cell_type": "code",
   "execution_count": 9,
   "metadata": {
    "papermill": {
     "duration": 0.025345,
     "end_time": "2020-11-25T06:33:28.895122",
     "exception": false,
     "start_time": "2020-11-25T06:33:28.869777",
     "status": "completed"
    },
    "tags": []
   },
   "outputs": [
    {
     "name": "stdout",
     "output_type": "stream",
     "text": [
      "All possible transitions from 'the game' state: \n",
      "\n",
      "{'your letter': 0.02702702702702703, 'was up': 0.09009009009009009, 'is afoot': 0.036036036036036036, 'for the': 0.036036036036036036, 'was in': 0.02702702702702703, 'is hardly': 0.02702702702702703, 'would have': 0.036036036036036036, 'is up': 0.06306306306306306, 'is and': 0.036036036036036036, 'in their': 0.036036036036036036, 'was whist': 0.036036036036036036, 'in that': 0.036036036036036036, 'the lack': 0.036036036036036036, 'for all': 0.06306306306306306, 'may wander': 0.02702702702702703, 'now a': 0.02702702702702703, 'my own': 0.02702702702702703, 'at any': 0.02702702702702703, 'mr holmes': 0.02702702702702703, 'ay whats': 0.02702702702702703, 'my friend': 0.02702702702702703, 'fairly by': 0.02702702702702703, 'is not': 0.02702702702702703, 'was not': 0.02702702702702703, 'was afoot': 0.036036036036036036, 'worth it': 0.02702702702702703, 'you are': 0.02702702702702703, 'i am': 0.02702702702702703, 'now count': 0.02702702702702703}\n"
     ]
    }
   ],
   "source": [
    "print(\"All possible transitions from 'the game' state: \\n\")\n",
    "print(markov_model['the game'])"
   ]
  },
  {
   "cell_type": "markdown",
   "metadata": {
    "papermill": {
     "duration": 0.016112,
     "end_time": "2020-11-25T06:33:28.927707",
     "exception": false,
     "start_time": "2020-11-25T06:33:28.911595",
     "status": "completed"
    },
    "tags": []
   },
   "source": [
    "## Generating Sherlock Holmes stories!"
   ]
  },
  {
   "cell_type": "code",
   "execution_count": 10,
   "metadata": {
    "papermill": {
     "duration": 0.02932,
     "end_time": "2020-11-25T06:33:28.973833",
     "exception": false,
     "start_time": "2020-11-25T06:33:28.944513",
     "status": "completed"
    },
    "tags": []
   },
   "outputs": [],
   "source": [
    "def generate_story(markov_model, limit=100, start='my god'):\n",
    "    n = 0\n",
    "    curr_state = start\n",
    "    next_state = None\n",
    "    story = \"\"\n",
    "    story+=curr_state+\" \"\n",
    "    while n<limit:\n",
    "        next_state = random.choices(list(markov_model[curr_state].keys()),\n",
    "                                    list(markov_model[curr_state].values()))\n",
    "        \n",
    "        curr_state = next_state[0]\n",
    "        story+=curr_state+\" \"\n",
    "        n+=1\n",
    "    return story"
   ]
  },
  {
   "cell_type": "code",
   "execution_count": 11,
   "metadata": {
    "papermill": {
     "duration": 0.034888,
     "end_time": "2020-11-25T06:33:29.025999",
     "exception": false,
     "start_time": "2020-11-25T06:33:28.991111",
     "status": "completed"
    },
    "tags": []
   },
   "outputs": [
    {
     "name": "stdout",
     "output_type": "stream",
     "text": [
      "0.  dear holmes if i thought you would say is a man you will realize that among your extensive \n",
      "1.  dear holmes i ejaculated commonplace said holmes though how you get on your theories i remarked that of \n",
      "2.  dear holmes i ejaculated well really this is recent quite recent see how the details of this inconceivable \n",
      "3.  dear holmes i exclaimed it is difficult to place him you wear a short walk of a couple \n",
      "4.  dear holmes that i was in the loft at the little railway arms and fondled it most tenderly \n",
      "5.  dear holmes am i he gazed from sir henry to stay with you until your reason breaks down \n",
      "6.  dear holmes i fear lest i bias my judgment i really had the effect could be more hopelessly \n",
      "7.  dear holmes am i then you do me a good hundred miles off by foreman blaker its been \n",
      "8.  dear holmes what do they care for my own sake said he but my own affairs needed a \n",
      "9.  dear holmes you are their employer is as you say is true did barrymore profit at all by \n",
      "10.  dear holmes what do you make of them which he had himself in reply imploring me to come \n",
      "11.  dear holmes i have already said at the moment said holmes where does this path lead to to \n",
      "12.  dear holmes oh yes he will be for the purpose of an indiscretion if i were again in \n",
      "13.  dear holmes he has not been shadowed during the last witness inspector bradstreet b division gave evidence as \n",
      "14.  dear holmes am i answered then what are you loitering there for one night it was for this \n",
      "15.  dear holmes if i would break their hearts its pure lunacy but surely said i the only point \n",
      "16.  dear holmes he has at this watson he answered it is certainly a most desperate resistance in arresting \n",
      "17.  dear holmes said i been numerous petty thefts holmes snorted his contempt this great and sombre a black \n",
      "18.  dear holmes he has so often and so through wigmore street into oxford street and i observe that \n",
      "19.  dear holmes if i had come to live for stand at the furthest we will leave you this \n"
     ]
    }
   ],
   "source": [
    "for i in range(20):\n",
    "    print(str(i)+\". \", generate_story(markov_model, start=\"dear holmes\", limit=8))"
   ]
  },
  {
   "cell_type": "code",
   "execution_count": 12,
   "metadata": {
    "papermill": {
     "duration": 0.033785,
     "end_time": "2020-11-25T06:33:29.078212",
     "exception": false,
     "start_time": "2020-11-25T06:33:29.044427",
     "status": "completed"
    },
    "tags": []
   },
   "outputs": [
    {
     "name": "stdout",
     "output_type": "stream",
     "text": [
      "0.  my dear watson said holmes when the elm must mean the farther end of the coffin shall remain \n",
      "1.  my dear holmes i called about that beggarman boone the one who was charged with being concerned in \n",
      "2.  my dear watson theres genius in that for some few halting words of congratulation and then burst out \n",
      "3.  my dear watson but this is a man he cursed and slashed at everyone who came sketching on \n",
      "4.  my dear fellow i congratulate you upon the rug and looking keenly at her in open lodge god \n",
      "5.  my dear fellow it is nearly midnight watson and i saw at once from the reverential way in \n",
      "6.  my dear young lady was shown straight into the study with my visit to the north of detroit \n",
      "7.  my dear mr grant munro to the door had opened and a look of fear upon her face \n",
      "8.  my dear fellow said he holmes with all our strength for the inspector it was torn out of \n",
      "9.  my dear fellow you exaggerate i have some cold supper had been brought to the notice of the \n",
      "10.  my dear watson that i shall most certainly withdraw it the moment i looked round and then pounced \n",
      "11.  my dear watson said he as he waved his hands outstretched and quivering this i fancy that he \n",
      "12.  my dear fellow what does it run whose was it she who would have been nitsky for you \n",
      "13.  my dear mr mac was there yes sir you know exactly how we stand and it was evident \n",
      "14.  my dear watson and yet this bridge a single broad span of stone with a high opinion of \n",
      "15.  my dear holmes i have several very vital questions to ask there is one little flaw in your \n",
      "16.  my dear watson but the colonels lip curled in a pitiable state of agitation her face a look \n",
      "17.  my dear fellow it was more like a from he ran up to an orthodox burial with proper \n",
      "18.  my dear watson he asked tossing it across from side to side in a third class carriage on \n",
      "19.  my dear watson i suppose when you doctored you found a more welcome word for gods sake proves \n"
     ]
    }
   ],
   "source": [
    "for i in range(20):\n",
    "    print(str(i)+\". \", generate_story(markov_model, start=\"my dear\", limit=8))"
   ]
  },
  {
   "cell_type": "code",
   "execution_count": 13,
   "metadata": {
    "papermill": {
     "duration": 0.03434,
     "end_time": "2020-11-25T06:33:29.131674",
     "exception": false,
     "start_time": "2020-11-25T06:33:29.097334",
     "status": "completed"
    },
    "tags": []
   },
   "outputs": [
    {
     "name": "stdout",
     "output_type": "stream",
     "text": [
      "0.  i would not wish us to very fashionable epistle i remarked as he sat up with her the \n",
      "1.  i would have spared you when you were at the brambletye hotel on the neck neal outfitter vermissa \n",
      "2.  i would draw your chair up to the north we thought that it must have been it ended \n",
      "3.  i would have shown him that his lad should step into the house you are certainly a model \n",
      "4.  i would do nothing with him since his shirt and socks were lying on his face to the \n",
      "5.  i would retire to my he always apologized to me it was stuffed with pennies and it was \n",
      "6.  i would have you been able to gather the details i warn you in touch with some of \n",
      "7.  i would do nothing more unless i have not promised to marry a better view talking all the \n",
      "8.  i would ask you all to be gathered from a town hospital to a of the pilgrims women \n",
      "9.  i would not have been the victim of some absurd practical joke nothing more to be of a \n",
      "10.  i would suggest that mr cubitts body may now be too late to overtake the major expressed it \n",
      "11.  i would pay ten that would whip lucy laughed through her tears at her baby an unmarried one \n",
      "12.  i would overtake you and introduce myself i thought perhaps the best it was not because i did \n",
      "13.  i would do what i have been with her twice when she was well that i closed my \n",
      "14.  i would test it but no one can tone down to it where was the shadow does indeed \n",
      "15.  i would get to their lair jonathan i shall leave to you im very well where i am \n",
      "16.  i would not wish to shield her he swears he knew nothing of any kind this brought me \n",
      "17.  i would have spoken out if he died but my friend watson or from the other side the \n",
      "18.  i would only return etc the good steiler assured me that he was not the sight of that \n",
      "19.  i would ask the questions mr holmes asked cheerfully what is the case as they came out before \n"
     ]
    }
   ],
   "source": [
    "for i in range(20):\n",
    "    print(str(i)+\". \", generate_story(markov_model, start=\"i would\", limit=8))"
   ]
  },
  {
   "cell_type": "code",
   "execution_count": 14,
   "metadata": {
    "papermill": {
     "duration": 0.030943,
     "end_time": "2020-11-25T06:33:29.183636",
     "exception": false,
     "start_time": "2020-11-25T06:33:29.152693",
     "status": "completed"
    },
    "tags": []
   },
   "outputs": [
    {
     "name": "stdout",
     "output_type": "stream",
     "text": [
      "the case as far as i stepped across had lit his pipe for example the and then appeared again coming slowly in our direction holmes gave an enigmatic note slipped into our modest good morning mr holmes i had not the nerve to go he had ceased to enter into long and dark a passion may be known to all about him you know not whether for good men are is a pretty one one of my men has gone and the whole front was draped in ivy with a small window between us unfortunately madam i had a letter arrived for my father i shall go down to the lady who introduced herself as miss stapleton is in reality i was still more miserable ways of our old lovers are the one fixed point in that direction which we can only mean said i that the royal munsters which is the man who said them at last our intimacy turned to lead in my breast or the wife of sir eustace brackenstall i have been a comic figure if he had tossed it across with a laugh passed his handkerchief over his brow clouded however as he sat down opposite to \n"
     ]
    }
   ],
   "source": [
    "print(generate_story(markov_model, start=\"the case\", limit=100))"
   ]
  },
  {
   "cell_type": "code",
   "execution_count": null,
   "metadata": {},
   "outputs": [],
   "source": []
  }
 ],
 "metadata": {
  "kernelspec": {
   "display_name": "Python 3 (ipykernel)",
   "language": "python",
   "name": "python3"
  },
  "language_info": {
   "codemirror_mode": {
    "name": "ipython",
    "version": 3
   },
   "file_extension": ".py",
   "mimetype": "text/x-python",
   "name": "python",
   "nbconvert_exporter": "python",
   "pygments_lexer": "ipython3",
   "version": "3.11.4"
  },
  "papermill": {
   "duration": 59.473932,
   "end_time": "2020-11-25T06:33:29.314157",
   "environment_variables": {},
   "exception": null,
   "input_path": "__notebook__.ipynb",
   "output_path": "__notebook__.ipynb",
   "parameters": {},
   "start_time": "2020-11-25T06:32:29.840225",
   "version": "2.1.0"
  }
 },
 "nbformat": 4,
 "nbformat_minor": 4
}
